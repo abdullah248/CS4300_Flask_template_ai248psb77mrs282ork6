{
 "cells": [
  {
   "cell_type": "code",
   "execution_count": 28,
   "metadata": {},
   "outputs": [
    {
     "name": "stdout",
     "output_type": "stream",
     "text": [
      "[nltk_data] Downloading package stopwords to\n",
      "[nltk_data]     /Users/ohadkoronyo/nltk_data...\n",
      "[nltk_data]   Package stopwords is already up-to-date!\n"
     ]
    },
    {
     "data": {
      "text/plain": [
       "True"
      ]
     },
     "execution_count": 28,
     "metadata": {},
     "output_type": "execute_result"
    }
   ],
   "source": [
    "from sklearn.metrics.pairwise import cosine_similarity\n",
    "from sklearn.feature_extraction.text import TfidfVectorizer\n",
    "import nltk\n",
    "from nltk.corpus import stopwords\n",
    "import os, json\n",
    "\n",
    "nltk.download('stopwords')"
   ]
  },
  {
   "cell_type": "code",
   "execution_count": 26,
   "metadata": {},
   "outputs": [
    {
     "name": "stdout",
     "output_type": "stream",
     "text": [
      "['bill_weld.txt', 'eric_swalwell.txt', 'donald_trump.txt', 'john_kasich.txt', 'cory_booker.txt', 'john_hickenlooper.txt', 'tim_ryan.txt', 'mike_gravel.txt', 'beto_orourke.txt', 'kirsten_gillibrand.txt', 'marianne_williamson.txt', 'pete_buttigieg.txt', 'kamala_harris.txt', 'amy_klobuchar.txt', 'jay_inslee.txt', 'joe_biden.txt', 'jesse_ventura.txt', 'michael_bennet.txt', 'arvin_vohra.txt', 'elizabeth_warren.txt', 'tulsi_gabbard.txt', 'larry_hogan.txt', 'howard_shultz.txt', 'bernie_sanders.txt', 'mike_pence.txt', 'julian_castro.txt', 'john_delaney.txt', 'andrew_yang.txt']\n"
     ]
    }
   ],
   "source": [
    "json_path = 'Txt_Files/'\n",
    "\n",
    "json_files = [json_file for json_file in os.listdir(json_path)]\n",
    "print(json_files)"
   ]
  },
  {
   "cell_type": "code",
   "execution_count": 29,
   "metadata": {},
   "outputs": [],
   "source": [
    "stopWords = stopwords.words('english')"
   ]
  },
  {
   "cell_type": "code",
   "execution_count": 51,
   "metadata": {},
   "outputs": [
    {
     "name": "stdout",
     "output_type": "stream",
     "text": [
      "['bill_weld.txt', 'eric_swalwell.txt', 'donald_trump.txt', 'john_kasich.txt', 'cory_booker.txt', 'john_hickenlooper.txt', 'tim_ryan.txt', 'mike_gravel.txt', 'beto_orourke.txt', 'kirsten_gillibrand.txt', 'marianne_williamson.txt', 'pete_buttigieg.txt', 'kamala_harris.txt', 'amy_klobuchar.txt', 'jay_inslee.txt', 'joe_biden.txt', 'jesse_ventura.txt', 'michael_bennet.txt', 'arvin_vohra.txt', 'elizabeth_warren.txt', 'tulsi_gabbard.txt', 'larry_hogan.txt', 'howard_shultz.txt', 'bernie_sanders.txt', 'mike_pence.txt', 'julian_castro.txt', 'john_delaney.txt', 'andrew_yang.txt']\n",
      "\n",
      "Calculating document similarity scores...\n",
      "\n",
      "Similarity Scores: [[1.         0.02384007 0.00984986 0.00551712 0.00574168 0.00688393\n",
      "  0.00892952 0.02508446 0.00153945 0.01257563 0.00860785 0.02775007\n",
      "  0.         0.01351945 0.01009205 0.         0.01487398 0.00683957\n",
      "  0.00530799 0.014466   0.00346    0.00561128 0.00706806 0.0060461\n",
      "  0.00621666 0.01247825 0.01061043 0.01691195 0.0051182 ]]\n"
     ]
    },
    {
     "name": "stderr",
     "output_type": "stream",
     "text": [
      "/Users/ohadkoronyo/venv/lib/python3.5/site-packages/sklearn/feature_extraction/text.py:1039: FutureWarning: Conversion of the second argument of issubdtype from `float` to `np.floating` is deprecated. In future, it will be treated as `np.float64 == np.dtype(float).type`.\n",
      "  if hasattr(X, 'dtype') and np.issubdtype(X.dtype, np.float):\n"
     ]
    }
   ],
   "source": [
    "json_path = 'Txt_Files/'\n",
    "\n",
    "json_files = [json_file for json_file in os.listdir(json_path)]\n",
    "print(json_files)\n",
    "\n",
    "print (\"\\nCalculating document similarity scores...\")\n",
    "\n",
    "dataset = []\n",
    "for name in json_files:\n",
    "    file_nam = '/Users/ohadkoronyo/Desktop/justjson/Txt_Files/' + name\n",
    "    f = open(file_nam)\n",
    "    docer = str(f.read())\n",
    "    dataset.append(docer)\n",
    "\n",
    "#print(dataset)\n",
    "train_string = 'pro life'\n",
    "\n",
    "train_set = [train_string] + dataset\n",
    "\n",
    "tfidf_vectorizer = TfidfVectorizer(stop_words=stopWords)\n",
    "tfidf_matrix_train = tfidf_vectorizer.fit_transform(train_set)\n",
    "\n",
    "mat = cosine_similarity(tfidf_matrix_train[0:1], tfidf_matrix_train)\n",
    "print (\"\\nSimilarity Scores:\", mat)\n",
    "\n",
    "tupleList = []\n",
    "for i in range(len(json_files)):\n",
    "    #print(str(json_files[i][:-4]) + \": \" + str(mat[0][i+1]))\n",
    "    tupleList.append((json_files[i][:-4],mat[0][i+1]))"
   ]
  },
  {
   "cell_type": "code",
   "execution_count": 52,
   "metadata": {},
   "outputs": [
    {
     "name": "stdout",
     "output_type": "stream",
     "text": [
      "marianne_williamson with similarity of 0.027750073030049924\n",
      "tim_ryan with similarity of 0.025084462265889132\n",
      "bill_weld with similarity of 0.02384007319821446\n",
      "john_delaney with similarity of 0.016911949388208343\n",
      "joe_biden with similarity of 0.014873980779513709\n",
      "arvin_vohra with similarity of 0.014466001559834346\n",
      "kamala_harris with similarity of 0.01351945104447195\n",
      "beto_orourke with similarity of 0.012575629976707619\n",
      "mike_pence with similarity of 0.012478248080446114\n",
      "julian_castro with similarity of 0.010610429244725956\n",
      "amy_klobuchar with similarity of 0.010092050747735663\n",
      "eric_swalwell with similarity of 0.009849861239735205\n",
      "john_hickenlooper with similarity of 0.00892951548040842\n",
      "kirsten_gillibrand with similarity of 0.008607850488903845\n",
      "larry_hogan with similarity of 0.0070680571688686135\n",
      "cory_booker with similarity of 0.006883925826450502\n",
      "jesse_ventura with similarity of 0.006839566246164559\n",
      "bernie_sanders with similarity of 0.006216661156517832\n",
      "howard_shultz with similarity of 0.006046103761269365\n",
      "john_kasich with similarity of 0.0057416775860348514\n",
      "tulsi_gabbard with similarity of 0.0056112783617444685\n",
      "donald_trump with similarity of 0.005517117644373631\n",
      "michael_bennet with similarity of 0.005307994222698287\n",
      "andrew_yang with similarity of 0.005118196175127911\n",
      "elizabeth_warren with similarity of 0.003460000061775786\n",
      "mike_gravel with similarity of 0.0015394459570352184\n",
      "pete_buttigieg with similarity of 0.0\n",
      "jay_inslee with similarity of 0.0\n"
     ]
    }
   ],
   "source": [
    "sorted_list = sorted(tupleList, key=lambda x: x[1], reverse = True)\n",
    "for tup in sorted_list:\n",
    "    print(tup[0] + \" with similarity of \" + str(tup[1]))"
   ]
  },
  {
   "cell_type": "code",
   "execution_count": null,
   "metadata": {},
   "outputs": [],
   "source": []
  },
  {
   "cell_type": "code",
   "execution_count": null,
   "metadata": {},
   "outputs": [],
   "source": []
  }
 ],
 "metadata": {
  "kernelspec": {
   "display_name": "Python 3",
   "language": "python",
   "name": "python3"
  },
  "language_info": {
   "codemirror_mode": {
    "name": "ipython",
    "version": 3
   },
   "file_extension": ".py",
   "mimetype": "text/x-python",
   "name": "python",
   "nbconvert_exporter": "python",
   "pygments_lexer": "ipython3",
   "version": "3.5.2"
  }
 },
 "nbformat": 4,
 "nbformat_minor": 2
}
